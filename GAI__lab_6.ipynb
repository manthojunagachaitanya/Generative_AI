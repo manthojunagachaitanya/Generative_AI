{
  "nbformat": 4,
  "nbformat_minor": 0,
  "metadata": {
    "colab": {
      "provenance": [],
      "authorship_tag": "ABX9TyOqMHk3lejASV6mwDqY5g5A",
      "include_colab_link": true
    },
    "kernelspec": {
      "name": "python3",
      "display_name": "Python 3"
    },
    "language_info": {
      "name": "python"
    }
  },
  "cells": [
    {
      "cell_type": "markdown",
      "metadata": {
        "id": "view-in-github",
        "colab_type": "text"
      },
      "source": [
        "<a href=\"https://colab.research.google.com/github/manthojunagachaitanya/Generative_AI/blob/main/GAI__lab_6.ipynb\" target=\"_parent\"><img src=\"https://colab.research.google.com/assets/colab-badge.svg\" alt=\"Open In Colab\"/></a>"
      ]
    },
    {
      "cell_type": "code",
      "execution_count": null,
      "metadata": {
        "id": "4LBhABBxiEtQ"
      },
      "outputs": [],
      "source": [
        "import pandas as pd\n",
        "import numpy as np\n",
        "from sklearn.model_selection import train_test_split\n",
        "from sklearn.preprocessing import StandardScaler, OneHotEncoder\n",
        "from keras.models import Sequential\n",
        "from keras.layers import Dense\n",
        "from keras.models import load_model\n",
        "\n",
        "# Step 1: Load and preprocess the dataset\n",
        "url = \"Housing.csv\"  # Update this with your dataset's path\n",
        "dataset = pd.read_csv(url)\n",
        "\n",
        "# Assuming 'price' is the target column and the rest are features\n",
        "X = dataset.drop('price', axis=1)  # Features\n",
        "y = dataset['price']  # Target variable\n",
        "\n",
        "# ----> Identify and handle categorical columns (e.g., using OneHotEncoder) <----\n",
        "categorical_cols = ['mainroad', 'guestroom', 'basement', 'hotwaterheating', 'airconditioning', 'prefarea', 'furnishingstatus']  # Replace with your categorical column names\n",
        "\n",
        "# Create a OneHotEncoder instance (we set handle_unknown='ignore' to avoid errors for unseen categories)\n",
        "encoder = OneHotEncoder(sparse_output=False, handle_unknown='ignore')\n",
        "\n",
        "# Fit and transform the categorical features\n",
        "encoded_cols = encoder.fit_transform(X[categorical_cols])\n",
        "\n",
        "# Create a DataFrame from the encoded features\n",
        "encoded_df = pd.DataFrame(encoded_cols, columns=encoder.get_feature_names_out(categorical_cols))\n",
        "\n",
        "# Drop the original categorical columns and concatenate the encoded features\n",
        "X = X.drop(categorical_cols, axis=1)\n",
        "X = pd.concat([X, encoded_df], axis=1)\n",
        "\n",
        "# Step 2: Split the data into training and testing sets\n",
        "X_train, X_test, y_train, y_test = train_test_split(X, y, test_size=0.2, random_state=42)\n",
        "\n",
        "# Step 3: Normalize the features\n",
        "scaler = StandardScaler()\n",
        "X_train = scaler.fit_transform(X_train)\n",
        "X_test = scaler.transform(X_test)\n",
        "\n",
        "# Step 4: Build the ANN model\n",
        "model = Sequential()\n",
        "\n",
        "# Hidden layers based on the provided architecture\n",
        "model.add(Dense(15, input_dim=X_train.shape[1], activation='relu'))  # Hidden Layer 1\n",
        "model.add(Dense(20, activation='relu'))  # Hidden Layer 2\n",
        "model.add(Dense(25, activation='relu'))  # Hidden Layer 3\n",
        "model.add(Dense(20, activation='relu'))  # Hidden Layer 4\n",
        "model.add(Dense(15, activation='relu'))  # Hidden Layer 5\n",
        "\n",
        "# Output layer (since we're predicting a continuous value, we use linear activation)\n",
        "model.add(Dense(1, activation='linear'))\n",
        "\n",
        "# Step 5: Compile the model\n",
        "model.compile(optimizer='adam', loss='mean_squared_error', metrics=['mae'])\n",
        "\n",
        "# Step 6: Train the model\n",
        "history = model.fit(X_train, y_train, epochs=150, batch_size=32, validation_data=(X_test, y_test))\n",
        "\n",
        "# Step 7: Evaluate the model\n",
        "train_loss, train_mae = model.evaluate(X_train, y_train)\n",
        "test_loss, test_mae = model.evaluate(X_test, y_test)\n",
        "\n",
        "print(f\"Training MAE: {train_mae}\")\n",
        "print(f\"Testing MAE: {test_mae}\")\n",
        "\n",
        "# Step 8: Save the model in .h5 format\n",
        "model.save('housing_price_predictor.h5')\n",
        "\n",
        "# Step 9: Load the model for deployment\n",
        "loaded_model = load_model('housing_price_predictor.h5')\n",
        "\n",
        "# Step 10: Make predictions with the loaded model\n",
        "predictions = loaded_model.predict(X_test)\n",
        "\n",
        "# Display predictions vs actual values for the first 10 examples\n",
        "for i in range(10):\n",
        "    print(f\"Predicted: {predictions[i][0]}, Actual: {y_test.iloc[i]}\")"
      ]
    }
  ]
}